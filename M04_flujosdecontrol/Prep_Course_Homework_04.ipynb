{
 "cells": [
  {
   "attachments": {},
   "cell_type": "markdown",
   "metadata": {},
   "source": [
    "## Flujos de Control"
   ]
  },
  {
   "attachments": {},
   "cell_type": "markdown",
   "metadata": {},
   "source": [
    "1) Crear una variable que contenga un elemento del conjunto de números enteros y luego imprimir por pantalla si es mayor o menor a cero"
   ]
  },
  {
   "cell_type": "code",
   "execution_count": 2,
   "metadata": {},
   "outputs": [
    {
     "name": "stdout",
     "output_type": "stream",
     "text": [
      "La variable es mayor a cero\n"
     ]
    }
   ],
   "source": [
    "a = 8\n",
    "if (a < 0):\n",
    "    print('La variable es menor a cero')\n",
    "elif (a > 0): \n",
    "    print('La variable es mayor a cero')\n",
    "else:\n",
    "    print('La variable es igual a cero')"
   ]
  },
  {
   "attachments": {},
   "cell_type": "markdown",
   "metadata": {},
   "source": [
    "2) Crear dos variables y un condicional que informe si son del mismo tipo de dato"
   ]
  },
  {
   "cell_type": "code",
   "execution_count": 3,
   "metadata": {},
   "outputs": [
    {
     "name": "stdout",
     "output_type": "stream",
     "text": [
      "Las variables son de tipos de dato diferentes\n",
      "Las variables 3.2 y 2 son del mismo tipo de dato\n"
     ]
    }
   ],
   "source": [
    "y = 2\n",
    "z = 'hola mundo'\n",
    "if (type(y) == type(z)):\n",
    "    print('Las variables son del mismo tipo de dato')\n",
    "else:\n",
    "    print('Las variables son de tipos de dato diferentes')\n",
    "\n",
    "a = 3.2\n",
    "b = 2\n",
    "print(f'Las variables {a} y {b} son del mismo tipo de dato')"
   ]
  },
  {
   "attachments": {},
   "cell_type": "markdown",
   "metadata": {},
   "source": [
    "3) Para los valores enteros del 1 al 20, imprimir por pantalla si es par o impar"
   ]
  },
  {
   "cell_type": "code",
   "execution_count": 7,
   "metadata": {},
   "outputs": [
    {
     "name": "stdout",
     "output_type": "stream",
     "text": [
      "El número  1  es impar\n",
      "El número  2  es par\n",
      "El número  3  es impar\n",
      "El número  4  es par\n",
      "El número  5  es impar\n",
      "El número  6  es par\n",
      "El número  7  es impar\n",
      "El número  8  es par\n",
      "El número  9  es impar\n",
      "El número  10  es par\n",
      "El número  11  es impar\n",
      "El número  12  es par\n",
      "El número  13  es impar\n",
      "El número  14  es par\n",
      "El número  15  es impar\n",
      "El número  16  es par\n",
      "El número  17  es impar\n",
      "El número  18  es par\n",
      "El número  19  es impar\n",
      "El número  20  es par\n"
     ]
    }
   ],
   "source": [
    "for i in range(1, 21):\n",
    "    if i % 2 == 0:\n",
    "        print('El número ', str(i), ' es par')\n",
    "    else:\n",
    "        print('El número ', str(i), ' es impar')\n"
   ]
  },
  {
   "attachments": {},
   "cell_type": "markdown",
   "metadata": {},
   "source": [
    "4) En un ciclo for mostrar para los valores entre 0 y 5 el resultado de elevarlo a la potencia igual a 3"
   ]
  },
  {
   "cell_type": "code",
   "execution_count": 8,
   "metadata": {},
   "outputs": [
    {
     "name": "stdout",
     "output_type": "stream",
     "text": [
      "Valor: 0  Elevado a la 3ra potencia: 0\n",
      "Valor: 1  Elevado a la 3ra potencia: 1\n",
      "Valor: 2  Elevado a la 3ra potencia: 8\n",
      "Valor: 3  Elevado a la 3ra potencia: 27\n",
      "Valor: 4  Elevado a la 3ra potencia: 64\n",
      "Valor: 5  Elevado a la 3ra potencia: 125\n"
     ]
    }
   ],
   "source": [
    "for i in range(0, 6):\n",
    "    print('Valor:', str(i), ' Elevado a la 3ra potencia:', str(i**3))"
   ]
  },
  {
   "attachments": {},
   "cell_type": "markdown",
   "metadata": {},
   "source": [
    "5) Crear una variable que contenga un número entero y realizar un ciclo for la misma cantidad de ciclos"
   ]
  },
  {
   "cell_type": "code",
   "execution_count": 9,
   "metadata": {},
   "outputs": [
    {
     "name": "stdout",
     "output_type": "stream",
     "text": [
      "19\n"
     ]
    }
   ],
   "source": [
    "n = 20\n",
    "for i in range(0, n):\n",
    "    pass\n",
    "print(i)"
   ]
  },
  {
   "attachments": {},
   "cell_type": "markdown",
   "metadata": {},
   "source": [
    "6) Utilizar un ciclo while para realizar el factorial de un número guardado en una variable, sólo si la variable contiene un número entero mayor a 0"
   ]
  },
  {
   "cell_type": "code",
   "execution_count": 11,
   "metadata": {},
   "outputs": [
    {
     "name": "stdout",
     "output_type": "stream",
     "text": [
      "El factorial es 120\n"
     ]
    }
   ],
   "source": [
    "n = 5\n",
    "if (type(n) == int):\n",
    "    if (n > 0):\n",
    "        factorial = n\n",
    "        while (n > 2):\n",
    "            n = n - 1\n",
    "            factorial = factorial * n\n",
    "        print('El factorial es', factorial)\n",
    "    else:\n",
    "        print('La variable no es mayor a cero')\n",
    "else:\n",
    "    print('La variable no es un entero')"
   ]
  },
  {
   "attachments": {},
   "cell_type": "markdown",
   "metadata": {},
   "source": [
    "7) Crear un ciclo for dentro de un ciclo while"
   ]
  },
  {
   "cell_type": "code",
   "execution_count": 12,
   "metadata": {},
   "outputs": [
    {
     "name": "stdout",
     "output_type": "stream",
     "text": [
      "Ciclo while nro 1\n",
      "Ciclo for nro 1\n",
      "Ciclo while nro 2\n",
      "Ciclo for nro 1\n",
      "Ciclo for nro 2\n",
      "Ciclo while nro 3\n",
      "Ciclo for nro 1\n",
      "Ciclo for nro 2\n",
      "Ciclo for nro 3\n",
      "Ciclo while nro 4\n",
      "Ciclo for nro 1\n",
      "Ciclo for nro 2\n",
      "Ciclo for nro 3\n",
      "Ciclo for nro 4\n"
     ]
    }
   ],
   "source": [
    "n = 1\n",
    "while n < 5:\n",
    "    print('Ciclo while nro ' + str(n))  # Imprime el número del ciclo while\n",
    "    for i in range(1, n+1): # como la función range(a, b) genera una secuencia de números desde a hasta b-1. Para que el bucle for incluya el número n, usamos range(1, n+1) en lugar de range(1, n).\n",
    "        print('Ciclo for nro ' + str(i))  # Imprime el número del ciclo for\n",
    "    n += 1"
   ]
  },
  {
   "attachments": {},
   "cell_type": "markdown",
   "metadata": {},
   "source": [
    "8) Crear un ciclo while dentro de un ciclo for"
   ]
  },
  {
   "cell_type": "code",
   "execution_count": 13,
   "metadata": {},
   "outputs": [
    {
     "name": "stdout",
     "output_type": "stream",
     "text": [
      "Iteración de ciclo for: 0\n",
      "   Iteración de ciclo while: 0\n",
      "   Iteración de ciclo while: 1\n",
      "Iteración de ciclo for: 1\n",
      "   Iteración de ciclo while: 0\n",
      "   Iteración de ciclo while: 1\n",
      "Iteración de ciclo for: 2\n",
      "   Iteración de ciclo while: 0\n",
      "   Iteración de ciclo while: 1\n"
     ]
    }
   ],
   "source": [
    "# Ciclo for\n",
    "for i in range(3):\n",
    "    print(\"Iteración de ciclo for:\", i)\n",
    "    \n",
    "    # Ciclo while dentro del ciclo for\n",
    "    contador = 0\n",
    "    while contador < 2:\n",
    "        print(\"   Iteración de ciclo while:\", contador)\n",
    "        contador += 1\n"
   ]
  },
  {
   "attachments": {},
   "cell_type": "markdown",
   "metadata": {},
   "source": [
    "9) Imprimir los números primos existentes entre 0 y 30"
   ]
  },
  {
   "cell_type": "code",
   "execution_count": 1,
   "metadata": {},
   "outputs": [
    {
     "name": "stdout",
     "output_type": "stream",
     "text": [
      "0\n",
      "1\n",
      "2\n",
      "3\n",
      "5\n",
      "7\n",
      "11\n",
      "13\n",
      "17\n",
      "19\n",
      "23\n",
      "29\n"
     ]
    }
   ],
   "source": [
    "tope_rango=30\n",
    "n = 0\n",
    "primo = True\n",
    "while (n < tope_rango):\n",
    "    for div in range(2, n):\n",
    "        if (n % div == 0):\n",
    "            primo = False\n",
    "    if (primo):\n",
    "        print(n)\n",
    "    else:\n",
    "        primo = True\n",
    "    n += 1"
   ]
  },
  {
   "attachments": {},
   "cell_type": "markdown",
   "metadata": {},
   "source": [
    "10) ¿Se puede mejorar el proceso del punto 9? Utilizar las sentencias break y/ó continue para tal fin"
   ]
  },
  {
   "cell_type": "code",
   "execution_count": 2,
   "metadata": {},
   "outputs": [
    {
     "name": "stdout",
     "output_type": "stream",
     "text": [
      "0\n",
      "1\n",
      "2\n",
      "3\n",
      "5\n",
      "7\n",
      "11\n",
      "13\n",
      "17\n",
      "19\n",
      "23\n",
      "29\n"
     ]
    }
   ],
   "source": [
    "n = 0\n",
    "primo = True\n",
    "while (n < tope_rango):\n",
    "    for div in range(2, n):\n",
    "        if (n % div == 0):\n",
    "            primo = False\n",
    "            break\n",
    "    if (primo):\n",
    "        print(n)\n",
    "    else:\n",
    "        primo = True\n",
    "    n += 1"
   ]
  },
  {
   "attachments": {},
   "cell_type": "markdown",
   "metadata": {},
   "source": [
    "11) En los puntos 9 y 10, se diseño un código que encuentra números primos y además se lo optimizó. ¿Es posible saber en qué medida se optimizó?"
   ]
  },
  {
   "cell_type": "code",
   "execution_count": 15,
   "metadata": {},
   "outputs": [
    {
     "name": "stdout",
     "output_type": "stream",
     "text": [
      "Cantidad de ciclos con optimización: 74\n",
      "Tiempo con optimización: 0.0027856826782226562 segundos\n",
      "Tiempo optimizado: -0.0027856826782226562 segundos\n"
     ]
    }
   ],
   "source": [
    "import time\n",
    "\n",
    "# Función para verificar si un número es primo\n",
    "def es_primo(num):\n",
    "    if num <= 1:\n",
    "        return False\n",
    "    for i in range(2, int(num ** 0.5) + 1):\n",
    "        if num % i == 0:\n",
    "            return False\n",
    "    return True\n",
    "\n",
    "# Contador de ciclos sin optimización\n",
    "ciclos_sin_optimizacion = 0\n",
    "\n",
    "# Medición del tiempo de ejecución antes de la optimización\n",
    "start_time_sin_optimizacion = time.time()\n",
    "\n",
    "# Ciclo for para imprimir los números primos entre 0 y 30 sin optimización\n",
    "for num in range(2, 31):\n",
    "    ciclos_sin_optimizacion += 1\n",
    "    for i in range(2, int(num ** 0.5) + 1):\n",
    "        ciclos_sin_optimizacion += 1\n",
    "        if num % i == 0:\n",
    "            break\n",
    "\n",
    "# Medición del tiempo de ejecución después de la optimización\n",
    "end_time_sin_optimizacion = time.time()\n",
    "\n",
    "# Contador de ciclos con optimización\n",
    "ciclos_con_optimizacion = 0\n",
    "\n",
    "# Medición del tiempo de ejecución antes de la optimización\n",
    "start_time_con_optimizacion = time.time()\n",
    "\n",
    "# Ciclo for para imprimir los números primos entre 0 y 30 con optimización\n",
    "for num in range(2, 31):\n",
    "    ciclos_con_optimizacion += 1\n",
    "    for i in range(2, int(num ** 0.5) + 1):\n",
    "        ciclos_con_optimizacion += 1\n",
    "        if num % i == 0:\n",
    "            break\n",
    "\n",
    "# Medición del tiempo de ejecución después de la optimización\n",
    "end_time_con_optimizacion = time.time()\n",
    "\n",
    "# Cálculo del tiempo transcurrido\n",
    "\n",
    "tiempo_con_optimizacion = end_time_con_optimizacion - start_time_con_optimizacion\n",
    "tiempo_sin_optimizacion = end_time_sin_optimizacion - start_time_sin_optimizacion\n",
    "# Imprimir resultados\n",
    "\n",
    "print(\"Cantidad de ciclos con optimización:\", ciclos_con_optimizacion)\n",
    "print(\"Tiempo con optimización:\", tiempo_con_optimizacion, \"segundos\")\n",
    "print(\"Tiempo optimizado:\", tiempo_sin_optimizacion - tiempo_con_optimizacion, \"segundos\")\n"
   ]
  },
  {
   "attachments": {},
   "cell_type": "markdown",
   "metadata": {},
   "source": [
    "12) Aplicando continue, armar un ciclo while que solo imprima los valores divisibles por 12, dentro del rango de números de 100 a 300"
   ]
  },
  {
   "cell_type": "code",
   "execution_count": 16,
   "metadata": {},
   "outputs": [
    {
     "name": "stdout",
     "output_type": "stream",
     "text": [
      "108\n",
      "120\n",
      "132\n",
      "144\n",
      "156\n",
      "168\n",
      "180\n",
      "192\n",
      "204\n",
      "216\n",
      "228\n",
      "240\n",
      "252\n",
      "264\n",
      "276\n",
      "288\n",
      "300\n"
     ]
    }
   ],
   "source": [
    "# Inicializar el contador en 100\n",
    "numero = 100\n",
    "\n",
    "# Ciclo while para imprimir los valores divisibles por 12 dentro del rango de 100 a 300\n",
    "while numero <= 300:\n",
    "    # Verificar si el número es divisible por 12\n",
    "    if numero % 12 != 0:\n",
    "        # Si no es divisible, pasar al siguiente número\n",
    "        numero += 1\n",
    "        continue\n",
    "    \n",
    "    # Si el número es divisible por 12, imprimirlo\n",
    "    print(numero)\n",
    "    \n",
    "    # Pasar al siguiente número\n",
    "    numero += 1\n"
   ]
  },
  {
   "attachments": {},
   "cell_type": "markdown",
   "metadata": {},
   "source": [
    "13) Utilizar la función **input()** que permite hacer ingresos por teclado, para encontrar números primos y dar la opción al usario de buscar el siguiente"
   ]
  },
  {
   "cell_type": "code",
   "execution_count": 18,
   "metadata": {},
   "outputs": [
    {
     "name": "stdout",
     "output_type": "stream",
     "text": [
      "Este programa encuentra números primos.\n",
      "Por favor, ingrese un número entero positivo mayor que 0.\n",
      "1 no es un número primo.\n",
      "¡Hasta luego!\n"
     ]
    }
   ],
   "source": [
    "# Función para verificar si un número es primo\n",
    "def es_primo(num):\n",
    "    if num <= 1:\n",
    "        return False\n",
    "    for i in range(2, int(num ** 0.5) + 1):\n",
    "        if num % i == 0:\n",
    "            return False\n",
    "    return True\n",
    "\n",
    "def buscar_siguiente_primo(numero):\n",
    "    # Encontrar el siguiente número primo después del número dado\n",
    "    siguiente = numero + 1\n",
    "    while True:\n",
    "        if es_primo(siguiente):\n",
    "            return siguiente\n",
    "        siguiente += 1\n",
    "\n",
    "# Programa principal\n",
    "print(\"Este programa encuentra números primos.\")\n",
    "\n",
    "while True:\n",
    "    entrada = input(\"Ingrese un número entero positivo (o 'salir' para terminar): \")\n",
    "\n",
    "    if entrada.lower() == 'salir':\n",
    "        print(\"¡Hasta luego!\")\n",
    "        break\n",
    "    \n",
    "    try:\n",
    "        numero = int(entrada)\n",
    "        if numero <= 0:\n",
    "            print(\"Por favor, ingrese un número entero positivo mayor que 0.\")\n",
    "            continue\n",
    "    except ValueError:\n",
    "        print(\"Por favor, ingrese un número entero válido.\")\n",
    "        continue\n",
    "\n",
    "    if es_primo(numero):\n",
    "        print(f\"{numero} es un número primo.\")\n",
    "    else:\n",
    "        print(f\"{numero} no es un número primo.\")\n",
    "\n",
    "    buscar_siguiente = input(\"¿Desea buscar el siguiente número primo? (sí/no): \")\n",
    "    if buscar_siguiente.lower() != 'sí':\n",
    "        print(\"¡Hasta luego!\")\n",
    "        break\n",
    "    else:\n",
    "        siguiente_primo = buscar_siguiente_primo(numero)\n",
    "        print(f\"El siguiente número primo después de {numero} es: {siguiente_primo}\")\n"
   ]
  },
  {
   "attachments": {},
   "cell_type": "markdown",
   "metadata": {},
   "source": [
    "14) Crear un ciclo while que encuentre dentro del rango de 100 a 300 el primer número divisible por 3 y además múltiplo de 6"
   ]
  },
  {
   "cell_type": "code",
   "execution_count": 19,
   "metadata": {},
   "outputs": [
    {
     "name": "stdout",
     "output_type": "stream",
     "text": [
      "El primer número divisible por 3 y multiplicado por 6 dentro del rango de 100 a 300 es: 102\n"
     ]
    }
   ],
   "source": [
    "# Inicializar el número en el límite inferior del rango\n",
    "numero = 100\n",
    "\n",
    "# Iniciar el ciclo while\n",
    "while numero <= 300:\n",
    "    # Verificar si el número es divisible por 3 y además multiplicado por 6\n",
    "    if numero % 3 == 0 and numero * 6 >= 100:\n",
    "        # Si se cumple la condición, imprimir el número y salir del ciclo\n",
    "        print(\"El primer número divisible por 3 y multiplicado por 6 dentro del rango de 100 a 300 es:\", numero)\n",
    "        break\n",
    "    \n",
    "    # Pasar al siguiente número\n",
    "    numero += 1\n"
   ]
  }
 ],
 "metadata": {
  "interpreter": {
   "hash": "c85384e4cb51c8b72350f3a8712cc8351fdc3955e32a27f9b60c6242ab125f01"
  },
  "kernelspec": {
   "display_name": "Python 3 (ipykernel)",
   "language": "python",
   "name": "python3"
  },
  "language_info": {
   "codemirror_mode": {
    "name": "ipython",
    "version": 3
   },
   "file_extension": ".py",
   "mimetype": "text/x-python",
   "name": "python",
   "nbconvert_exporter": "python",
   "pygments_lexer": "ipython3",
   "version": "3.11.8"
  }
 },
 "nbformat": 4,
 "nbformat_minor": 4
}
